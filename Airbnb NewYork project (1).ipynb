{
 "cells": [
  {
   "cell_type": "code",
   "execution_count": null,
   "id": "7bc93633",
   "metadata": {},
   "outputs": [],
   "source": [
    "1. Import pandas libraries"
   ]
  },
  {
   "cell_type": "code",
   "execution_count": 1,
   "id": "cd2447d2",
   "metadata": {},
   "outputs": [],
   "source": [
    "import numpy as np\n",
    "from numpy import median\n",
    "import pandas as pd\n",
    "pd.plotting.register_matplotlib_converters()\n",
    "import matplotlib.pyplot as plt\n",
    "%matplotlib inline\n",
    "import seaborn as sns"
   ]
  },
  {
   "cell_type": "code",
   "execution_count": null,
   "id": "78ba9a86",
   "metadata": {},
   "outputs": [],
   "source": [
    "2. Formatting pandas output"
   ]
  },
  {
   "cell_type": "code",
   "execution_count": 2,
   "id": "235375ca",
   "metadata": {},
   "outputs": [],
   "source": [
    "pd.options.display.float_format = '{:,.2f}'.format  \n",
    "pd.options.display.max_columns = 200"
   ]
  },
  {
   "cell_type": "code",
   "execution_count": null,
   "id": "ca770234",
   "metadata": {},
   "outputs": [],
   "source": [
    "3. Loading data from online github file"
   ]
  },
  {
   "cell_type": "code",
   "execution_count": 3,
   "id": "db38a431",
   "metadata": {},
   "outputs": [
    {
     "data": {
      "text/html": [
       "<div>\n",
       "<style scoped>\n",
       "    .dataframe tbody tr th:only-of-type {\n",
       "        vertical-align: middle;\n",
       "    }\n",
       "\n",
       "    .dataframe tbody tr th {\n",
       "        vertical-align: top;\n",
       "    }\n",
       "\n",
       "    .dataframe thead th {\n",
       "        text-align: right;\n",
       "    }\n",
       "</style>\n",
       "<table border=\"1\" class=\"dataframe\">\n",
       "  <thead>\n",
       "    <tr style=\"text-align: right;\">\n",
       "      <th></th>\n",
       "      <th>id</th>\n",
       "      <th>name</th>\n",
       "      <th>host_id</th>\n",
       "      <th>host_name</th>\n",
       "      <th>neighbourhood_group</th>\n",
       "      <th>neighbourhood</th>\n",
       "      <th>latitude</th>\n",
       "      <th>longitude</th>\n",
       "      <th>room_type</th>\n",
       "      <th>price</th>\n",
       "      <th>minimum_nights</th>\n",
       "      <th>number_of_reviews</th>\n",
       "      <th>last_review</th>\n",
       "      <th>reviews_per_month</th>\n",
       "      <th>calculated_host_listings_count</th>\n",
       "      <th>availability_365</th>\n",
       "    </tr>\n",
       "  </thead>\n",
       "  <tbody>\n",
       "    <tr>\n",
       "      <th>0</th>\n",
       "      <td>2539</td>\n",
       "      <td>Clean &amp; quiet apt home by the park</td>\n",
       "      <td>2787</td>\n",
       "      <td>John</td>\n",
       "      <td>Brooklyn</td>\n",
       "      <td>Kensington</td>\n",
       "      <td>40.65</td>\n",
       "      <td>-73.97</td>\n",
       "      <td>Private room</td>\n",
       "      <td>149</td>\n",
       "      <td>1</td>\n",
       "      <td>9</td>\n",
       "      <td>2018-10-19</td>\n",
       "      <td>0.21</td>\n",
       "      <td>6</td>\n",
       "      <td>365</td>\n",
       "    </tr>\n",
       "    <tr>\n",
       "      <th>1</th>\n",
       "      <td>2595</td>\n",
       "      <td>Skylit Midtown Castle</td>\n",
       "      <td>2845</td>\n",
       "      <td>Jennifer</td>\n",
       "      <td>Manhattan</td>\n",
       "      <td>Midtown</td>\n",
       "      <td>40.75</td>\n",
       "      <td>-73.98</td>\n",
       "      <td>Entire home/apt</td>\n",
       "      <td>225</td>\n",
       "      <td>1</td>\n",
       "      <td>45</td>\n",
       "      <td>2019-05-21</td>\n",
       "      <td>0.38</td>\n",
       "      <td>2</td>\n",
       "      <td>355</td>\n",
       "    </tr>\n",
       "    <tr>\n",
       "      <th>2</th>\n",
       "      <td>3647</td>\n",
       "      <td>THE VILLAGE OF HARLEM....NEW YORK !</td>\n",
       "      <td>4632</td>\n",
       "      <td>Elisabeth</td>\n",
       "      <td>Manhattan</td>\n",
       "      <td>Harlem</td>\n",
       "      <td>40.81</td>\n",
       "      <td>-73.94</td>\n",
       "      <td>Private room</td>\n",
       "      <td>150</td>\n",
       "      <td>3</td>\n",
       "      <td>0</td>\n",
       "      <td>NaN</td>\n",
       "      <td>NaN</td>\n",
       "      <td>1</td>\n",
       "      <td>365</td>\n",
       "    </tr>\n",
       "    <tr>\n",
       "      <th>3</th>\n",
       "      <td>3831</td>\n",
       "      <td>Cozy Entire Floor of Brownstone</td>\n",
       "      <td>4869</td>\n",
       "      <td>LisaRoxanne</td>\n",
       "      <td>Brooklyn</td>\n",
       "      <td>Clinton Hill</td>\n",
       "      <td>40.69</td>\n",
       "      <td>-73.96</td>\n",
       "      <td>Entire home/apt</td>\n",
       "      <td>89</td>\n",
       "      <td>1</td>\n",
       "      <td>270</td>\n",
       "      <td>2019-07-05</td>\n",
       "      <td>4.64</td>\n",
       "      <td>1</td>\n",
       "      <td>194</td>\n",
       "    </tr>\n",
       "    <tr>\n",
       "      <th>4</th>\n",
       "      <td>5022</td>\n",
       "      <td>Entire Apt: Spacious Studio/Loft by central park</td>\n",
       "      <td>7192</td>\n",
       "      <td>Laura</td>\n",
       "      <td>Manhattan</td>\n",
       "      <td>East Harlem</td>\n",
       "      <td>40.80</td>\n",
       "      <td>-73.94</td>\n",
       "      <td>Entire home/apt</td>\n",
       "      <td>80</td>\n",
       "      <td>10</td>\n",
       "      <td>9</td>\n",
       "      <td>2018-11-19</td>\n",
       "      <td>0.10</td>\n",
       "      <td>1</td>\n",
       "      <td>0</td>\n",
       "    </tr>\n",
       "  </tbody>\n",
       "</table>\n",
       "</div>"
      ],
      "text/plain": [
       "     id                                              name  host_id  \\\n",
       "0  2539                Clean & quiet apt home by the park     2787   \n",
       "1  2595                             Skylit Midtown Castle     2845   \n",
       "2  3647               THE VILLAGE OF HARLEM....NEW YORK !     4632   \n",
       "3  3831                   Cozy Entire Floor of Brownstone     4869   \n",
       "4  5022  Entire Apt: Spacious Studio/Loft by central park     7192   \n",
       "\n",
       "     host_name neighbourhood_group neighbourhood  latitude  longitude  \\\n",
       "0         John            Brooklyn    Kensington     40.65     -73.97   \n",
       "1     Jennifer           Manhattan       Midtown     40.75     -73.98   \n",
       "2    Elisabeth           Manhattan        Harlem     40.81     -73.94   \n",
       "3  LisaRoxanne            Brooklyn  Clinton Hill     40.69     -73.96   \n",
       "4        Laura           Manhattan   East Harlem     40.80     -73.94   \n",
       "\n",
       "         room_type  price  minimum_nights  number_of_reviews last_review  \\\n",
       "0     Private room    149               1                  9  2018-10-19   \n",
       "1  Entire home/apt    225               1                 45  2019-05-21   \n",
       "2     Private room    150               3                  0         NaN   \n",
       "3  Entire home/apt     89               1                270  2019-07-05   \n",
       "4  Entire home/apt     80              10                  9  2018-11-19   \n",
       "\n",
       "   reviews_per_month  calculated_host_listings_count  availability_365  \n",
       "0               0.21                               6               365  \n",
       "1               0.38                               2               355  \n",
       "2                NaN                               1               365  \n",
       "3               4.64                               1               194  \n",
       "4               0.10                               1                 0  "
      ]
     },
     "execution_count": 3,
     "metadata": {},
     "output_type": "execute_result"
    }
   ],
   "source": [
    "# read dataset into a DataFrame\n",
    "df = pd.read_csv('https://raw.githubusercontent.com/chuludata/AirbnbNewYorkOpenDataset/main/AB_NYC_2019.csv')\n",
    "\n",
    "df.head()"
   ]
  },
  {
   "cell_type": "code",
   "execution_count": 4,
   "id": "44d006af",
   "metadata": {},
   "outputs": [
    {
     "data": {
      "text/plain": [
       "(48895, 16)"
      ]
     },
     "execution_count": 4,
     "metadata": {},
     "output_type": "execute_result"
    }
   ],
   "source": [
    "df.shape"
   ]
  },
  {
   "cell_type": "code",
   "execution_count": 5,
   "id": "1f9a7c43",
   "metadata": {},
   "outputs": [
    {
     "name": "stdout",
     "output_type": "stream",
     "text": [
      "<class 'pandas.core.frame.DataFrame'>\n",
      "RangeIndex: 48895 entries, 0 to 48894\n",
      "Data columns (total 16 columns):\n",
      " #   Column                          Non-Null Count  Dtype  \n",
      "---  ------                          --------------  -----  \n",
      " 0   id                              48895 non-null  int64  \n",
      " 1   name                            48879 non-null  object \n",
      " 2   host_id                         48895 non-null  int64  \n",
      " 3   host_name                       48874 non-null  object \n",
      " 4   neighbourhood_group             48895 non-null  object \n",
      " 5   neighbourhood                   48895 non-null  object \n",
      " 6   latitude                        48895 non-null  float64\n",
      " 7   longitude                       48895 non-null  float64\n",
      " 8   room_type                       48895 non-null  object \n",
      " 9   price                           48895 non-null  int64  \n",
      " 10  minimum_nights                  48895 non-null  int64  \n",
      " 11  number_of_reviews               48895 non-null  int64  \n",
      " 12  last_review                     38843 non-null  object \n",
      " 13  reviews_per_month               38843 non-null  float64\n",
      " 14  calculated_host_listings_count  48895 non-null  int64  \n",
      " 15  availability_365                48895 non-null  int64  \n",
      "dtypes: float64(3), int64(7), object(6)\n",
      "memory usage: 6.0+ MB\n"
     ]
    }
   ],
   "source": [
    "df.info()"
   ]
  },
  {
   "cell_type": "code",
   "execution_count": null,
   "id": "791067da",
   "metadata": {},
   "outputs": [],
   "source": [
    "4. Data profiling"
   ]
  },
  {
   "cell_type": "code",
   "execution_count": 6,
   "id": "4258c7a2",
   "metadata": {},
   "outputs": [
    {
     "data": {
      "text/html": [
       "<div>\n",
       "<style scoped>\n",
       "    .dataframe tbody tr th:only-of-type {\n",
       "        vertical-align: middle;\n",
       "    }\n",
       "\n",
       "    .dataframe tbody tr th {\n",
       "        vertical-align: top;\n",
       "    }\n",
       "\n",
       "    .dataframe thead th {\n",
       "        text-align: right;\n",
       "    }\n",
       "</style>\n",
       "<table border=\"1\" class=\"dataframe\">\n",
       "  <thead>\n",
       "    <tr style=\"text-align: right;\">\n",
       "      <th></th>\n",
       "      <th>id</th>\n",
       "      <th>host_id</th>\n",
       "      <th>latitude</th>\n",
       "      <th>longitude</th>\n",
       "      <th>price</th>\n",
       "      <th>minimum_nights</th>\n",
       "      <th>number_of_reviews</th>\n",
       "      <th>reviews_per_month</th>\n",
       "      <th>calculated_host_listings_count</th>\n",
       "      <th>availability_365</th>\n",
       "    </tr>\n",
       "  </thead>\n",
       "  <tbody>\n",
       "    <tr>\n",
       "      <th>count</th>\n",
       "      <td>48,895.00</td>\n",
       "      <td>48,895.00</td>\n",
       "      <td>48,895.00</td>\n",
       "      <td>48,895.00</td>\n",
       "      <td>48,895.00</td>\n",
       "      <td>48,895.00</td>\n",
       "      <td>48,895.00</td>\n",
       "      <td>38,843.00</td>\n",
       "      <td>48,895.00</td>\n",
       "      <td>48,895.00</td>\n",
       "    </tr>\n",
       "    <tr>\n",
       "      <th>mean</th>\n",
       "      <td>19,017,143.24</td>\n",
       "      <td>67,620,010.65</td>\n",
       "      <td>40.73</td>\n",
       "      <td>-73.95</td>\n",
       "      <td>152.72</td>\n",
       "      <td>7.03</td>\n",
       "      <td>23.27</td>\n",
       "      <td>1.37</td>\n",
       "      <td>7.14</td>\n",
       "      <td>112.78</td>\n",
       "    </tr>\n",
       "    <tr>\n",
       "      <th>std</th>\n",
       "      <td>10,983,108.39</td>\n",
       "      <td>78,610,967.03</td>\n",
       "      <td>0.05</td>\n",
       "      <td>0.05</td>\n",
       "      <td>240.15</td>\n",
       "      <td>20.51</td>\n",
       "      <td>44.55</td>\n",
       "      <td>1.68</td>\n",
       "      <td>32.95</td>\n",
       "      <td>131.62</td>\n",
       "    </tr>\n",
       "    <tr>\n",
       "      <th>min</th>\n",
       "      <td>2,539.00</td>\n",
       "      <td>2,438.00</td>\n",
       "      <td>40.50</td>\n",
       "      <td>-74.24</td>\n",
       "      <td>0.00</td>\n",
       "      <td>1.00</td>\n",
       "      <td>0.00</td>\n",
       "      <td>0.01</td>\n",
       "      <td>1.00</td>\n",
       "      <td>0.00</td>\n",
       "    </tr>\n",
       "    <tr>\n",
       "      <th>25%</th>\n",
       "      <td>9,471,945.00</td>\n",
       "      <td>7,822,033.00</td>\n",
       "      <td>40.69</td>\n",
       "      <td>-73.98</td>\n",
       "      <td>69.00</td>\n",
       "      <td>1.00</td>\n",
       "      <td>1.00</td>\n",
       "      <td>0.19</td>\n",
       "      <td>1.00</td>\n",
       "      <td>0.00</td>\n",
       "    </tr>\n",
       "    <tr>\n",
       "      <th>50%</th>\n",
       "      <td>19,677,284.00</td>\n",
       "      <td>30,793,816.00</td>\n",
       "      <td>40.72</td>\n",
       "      <td>-73.96</td>\n",
       "      <td>106.00</td>\n",
       "      <td>3.00</td>\n",
       "      <td>5.00</td>\n",
       "      <td>0.72</td>\n",
       "      <td>1.00</td>\n",
       "      <td>45.00</td>\n",
       "    </tr>\n",
       "    <tr>\n",
       "      <th>75%</th>\n",
       "      <td>29,152,178.50</td>\n",
       "      <td>107,434,423.00</td>\n",
       "      <td>40.76</td>\n",
       "      <td>-73.94</td>\n",
       "      <td>175.00</td>\n",
       "      <td>5.00</td>\n",
       "      <td>24.00</td>\n",
       "      <td>2.02</td>\n",
       "      <td>2.00</td>\n",
       "      <td>227.00</td>\n",
       "    </tr>\n",
       "    <tr>\n",
       "      <th>max</th>\n",
       "      <td>36,487,245.00</td>\n",
       "      <td>274,321,313.00</td>\n",
       "      <td>40.91</td>\n",
       "      <td>-73.71</td>\n",
       "      <td>10,000.00</td>\n",
       "      <td>1,250.00</td>\n",
       "      <td>629.00</td>\n",
       "      <td>58.50</td>\n",
       "      <td>327.00</td>\n",
       "      <td>365.00</td>\n",
       "    </tr>\n",
       "  </tbody>\n",
       "</table>\n",
       "</div>"
      ],
      "text/plain": [
       "                 id        host_id  latitude  longitude     price  \\\n",
       "count     48,895.00      48,895.00 48,895.00  48,895.00 48,895.00   \n",
       "mean  19,017,143.24  67,620,010.65     40.73     -73.95    152.72   \n",
       "std   10,983,108.39  78,610,967.03      0.05       0.05    240.15   \n",
       "min        2,539.00       2,438.00     40.50     -74.24      0.00   \n",
       "25%    9,471,945.00   7,822,033.00     40.69     -73.98     69.00   \n",
       "50%   19,677,284.00  30,793,816.00     40.72     -73.96    106.00   \n",
       "75%   29,152,178.50 107,434,423.00     40.76     -73.94    175.00   \n",
       "max   36,487,245.00 274,321,313.00     40.91     -73.71 10,000.00   \n",
       "\n",
       "       minimum_nights  number_of_reviews  reviews_per_month  \\\n",
       "count       48,895.00          48,895.00          38,843.00   \n",
       "mean             7.03              23.27               1.37   \n",
       "std             20.51              44.55               1.68   \n",
       "min              1.00               0.00               0.01   \n",
       "25%              1.00               1.00               0.19   \n",
       "50%              3.00               5.00               0.72   \n",
       "75%              5.00              24.00               2.02   \n",
       "max          1,250.00             629.00              58.50   \n",
       "\n",
       "       calculated_host_listings_count  availability_365  \n",
       "count                       48,895.00         48,895.00  \n",
       "mean                             7.14            112.78  \n",
       "std                             32.95            131.62  \n",
       "min                              1.00              0.00  \n",
       "25%                              1.00              0.00  \n",
       "50%                              1.00             45.00  \n",
       "75%                              2.00            227.00  \n",
       "max                            327.00            365.00  "
      ]
     },
     "execution_count": 6,
     "metadata": {},
     "output_type": "execute_result"
    }
   ],
   "source": [
    "df.describe()"
   ]
  },
  {
   "cell_type": "code",
   "execution_count": 7,
   "id": "85b26930",
   "metadata": {},
   "outputs": [
    {
     "data": {
      "text/plain": [
       "id                                    0\n",
       "name                                 16\n",
       "host_id                               0\n",
       "host_name                            21\n",
       "neighbourhood_group                   0\n",
       "neighbourhood                         0\n",
       "latitude                              0\n",
       "longitude                             0\n",
       "room_type                             0\n",
       "price                                 0\n",
       "minimum_nights                        0\n",
       "number_of_reviews                     0\n",
       "last_review                       10052\n",
       "reviews_per_month                 10052\n",
       "calculated_host_listings_count        0\n",
       "availability_365                      0\n",
       "dtype: int64"
      ]
     },
     "execution_count": 7,
     "metadata": {},
     "output_type": "execute_result"
    }
   ],
   "source": [
    "df.isnull().sum()"
   ]
  },
  {
   "cell_type": "code",
   "execution_count": 8,
   "id": "bfc0ec60",
   "metadata": {},
   "outputs": [
    {
     "data": {
      "text/plain": [
       "array(['Brooklyn', 'Manhattan', 'Queens', 'Staten Island', 'Bronx'],\n",
       "      dtype=object)"
      ]
     },
     "execution_count": 8,
     "metadata": {},
     "output_type": "execute_result"
    }
   ],
   "source": [
    "df['neighbourhood_group'].unique()"
   ]
  },
  {
   "cell_type": "code",
   "execution_count": null,
   "id": "a8b4cbc5",
   "metadata": {},
   "outputs": [],
   "source": [
    "5. EDA Exploratory Data Analysis\n",
    "\n",
    "5.1. What are the top 3 districts that have biggest number of renting?\n",
    "Answer: the top 3 districts that have biggest number of renting are Manhattan, Brooklyn, Queens.\n",
    "Pandas Tool used: Bar chart is used to identify the top 3 districts that have biggest number of renting."
   ]
  },
  {
   "cell_type": "code",
   "execution_count": 9,
   "id": "4b9067dc",
   "metadata": {},
   "outputs": [
    {
     "data": {
      "text/plain": [
       "<AxesSubplot:>"
      ]
     },
     "execution_count": 9,
     "metadata": {},
     "output_type": "execute_result"
    },
    {
     "data": {
      "image/png": "[encoded data removed]",
      "text/plain": [
       "<Figure size 432x288 with 1 Axes>"
      ]
     },
     "metadata": {
      "needs_background": "light"
     },
     "output_type": "display_data"
    }
   ],
   "source": [
    "df['neighbourhood_group'].value_counts(sort=True).nlargest(3).plot.bar()"
   ]
  },
  {
   "cell_type": "code",
   "execution_count": null,
   "id": "ecfceb7c",
   "metadata": {},
   "outputs": [],
   "source": [
    "5.2. What is the top 1 room type in renting?\n",
    "Answer: the top 1 room type in renting is 'Entire home/apt'.\n",
    "Pandas Tool used: Pie chart is used to identify the top 1 room type in renting."
   ]
  },
  {
   "cell_type": "code",
   "execution_count": 10,
   "id": "d10d96e8",
   "metadata": {},
   "outputs": [
    {
     "data": {
      "image/png": "[encoded data removed]",
      "text/plain": [
       "<Figure size 1080x720 with 1 Axes>"
      ]
     },
     "metadata": {},
     "output_type": "display_data"
    }
   ],
   "source": [
    "df['room_type'].value_counts().plot(kind='pie', autopct='%1.0f%%', figsize=(15,10))\n",
    "\n",
    "plt.title(\"Pie Chart of Room Type in Renting\", size=20)\n",
    "\n",
    "plt.show()"
   ]
  },
  {
   "cell_type": "code",
   "execution_count": null,
   "id": "0cc62bb8",
   "metadata": {},
   "outputs": [],
   "source": [
    "5.3 What is the count of renting in each district and subgrouped by room type?\n",
    "Answer: The bar chart with two variables (district and room_type) is drawn below. Draw the bar chart to show the count of renting in each district and subgrouped by room type.\n",
    "Pandas Tool used: Seaborn Countplot with Two Variables using Hue. The function countplot is called with 'x' (the big-group variable, 'neighbourhood_group' in this example) and 'hue' parameter (the sub-group variable, 'room_type' in this example)."
   ]
  },
  {
   "cell_type": "code",
   "execution_count": 11,
   "id": "bd4d1253",
   "metadata": {},
   "outputs": [
    {
     "data": {
      "image/png": "[encoded data removed]",
      "text/plain": [
       "<Figure size 432x288 with 1 Axes>"
      ]
     },
     "metadata": {
      "needs_background": "light"
     },
     "output_type": "display_data"
    }
   ],
   "source": [
    "sns.countplot(x='neighbourhood_group', hue='room_type', data=df,  palette=\"spring\")\n",
    "\n",
    "plt.title('Renting Count in Each District by Room Type', size=15)\n",
    "plt.ylabel('Count of Rooms', size=20)\n",
    "plt.xlabel('District', size=20)\n",
    "\n",
    "plt.show()"
   ]
  },
  {
   "cell_type": "code",
   "execution_count": null,
   "id": "2ef67943",
   "metadata": {},
   "outputs": [],
   "source": [
    "5.4 What is the price of renting in each district and subgrouped by room type?\n",
    "Answer: The two bar charts is drawn below. Draw the two bar charts side by side to show the price of renting in each district and subgrouped by room type.\n",
    "Pandas Tool used: Two charts are drawn with plt.subplots. Seaborn barplot with Two Variables using Hue.\n",
    "The function barplot is called with 'x' (the big-group variable, 'neighbourhood_group' in this example) and 'hue' parameter (the sub-group variable, 'room_type' in this example). y value is using 'price'.\n",
    "The second barplot uses estimator=median to show the median value."
   ]
  },
  {
   "cell_type": "code",
   "execution_count": 21,
   "id": "01f8c4ae",
   "metadata": {
    "scrolled": true
   },
   "outputs": [
    {
     "data": {
      "image/png": "[encoded data removed]",
      "text/plain": [
       "<Figure size 1440x360 with 2 Axes>"
      ]
     },
     "metadata": {
      "needs_background": "light"
     },
     "output_type": "display_data"
    }
   ],
   "source": [
    "order = ['Bronx', 'Staten Island', 'Manhattan', 'Brooklyn','Queens']\n",
    "\n",
    "fig, ax = plt.subplots(1, 2, figsize=(20,5))\n",
    "\n",
    "sns.barplot(data=df, y='price', x='neighbourhood_group',ax=ax[0], hue='room_type' ,order=order)\n",
    "ax[0].set_title('Renting Price in Each District by Room Type(Mean)', size=15)\n",
    "ax[0].set_xlabel('Areas', size=15)\n",
    "ax[0].set_ylabel('Price', size=15)\n",
    "\n",
    "sns.barplot(data=df, y='price', x='neighbourhood_group',ax=ax[1], hue='room_type' ,order=order, estimator=median)\n",
    "ax[1].set_title('Renting Price in Each District by Room Type(Median)', size=15)\n",
    "ax[1].set_xlabel('Areas', size=15)\n",
    "ax[1].set_ylabel(\"Price\", size=15)\n",
    "\n",
    "\n",
    "plt.show()"
   ]
  },
  {
   "cell_type": "code",
   "execution_count": null,
   "id": "4d7b0a1e",
   "metadata": {},
   "outputs": [],
   "source": [
    "5.5 What are the 10 highest price neighborhood in New York?\n",
    "Answer: The bar chart to show the 10 highest price neighborhood is drawn below.\n",
    "Pandas Tool used: The 10 highest price neighborhood is save in variable 'high_10_price'. sns.barplot is used to draw the bar chart for variable 'high_10_price'.\n",
    "Documentation for subplots\n",
    "Documentation for barplot\n",
    "plt.subplots returns two values, we save these two values in (fig, ax)."
   ]
  },
  {
   "cell_type": "code",
   "execution_count": 28,
   "id": "40dd4119",
   "metadata": {},
   "outputs": [
    {
     "data": {
      "image/png": "[encoded data removed]",
      "text/plain": [
       "<Figure size 1008x576 with 1 Axes>"
      ]
     },
     "metadata": {
      "needs_background": "light"
     },
     "output_type": "display_data"
    }
   ],
   "source": [
    "# The 10 highest grice neighborhood is save in variable 'high_5_price'\n",
    "high_10_price = df.groupby('neighbourhood')['price'].mean().sort_values(ascending=False).head(10)\n",
    "\n",
    "# Draw the bar chart\n",
    "fig, ax = plt.subplots(figsize=(14,8))\n",
    "\n",
    "sns.barplot(data=df, y=high_10_price, x=high_10_price.index, palette=\"rocket\")\n",
    "\n",
    "plt.title(\"10 highest price neighbourhood in New York\", size=20)\n",
    "plt.xlabel(\"Neighbourhood of New York\", size=15)\n",
    "plt.ylabel(\"Price\", size=15)\n",
    "\n",
    "plt.show()"
   ]
  },
  {
   "cell_type": "code",
   "execution_count": null,
   "id": "dbdbd4fe",
   "metadata": {},
   "outputs": [],
   "source": [
    "5.6 What are the 10 highest price neighborhood of Manhattan?\n",
    "Answer: The bar chart to show the 10 highest price neighborhood of Manhattan is drawn below.\n",
    "Pandas Tool used: The sub dataframe of Manhattan data is saved in variable 'df_manhattan'. The 10 highest price neighborhood of Manhattan is save in variable 'high_10_price_manhattan'. sns.barplot is used to draw the bar chart for variable 'high_10_price_manhattan'."
   ]
  },
  {
   "cell_type": "code",
   "execution_count": 18,
   "id": "8e56abeb",
   "metadata": {},
   "outputs": [
    {
     "data": {
      "text/plain": [
       "neighbourhood\n",
       "Tribeca             490.64\n",
       "Battery Park City   367.56\n",
       "Flatiron District   341.93\n",
       "NoHo                295.72\n",
       "SoHo                287.10\n",
       "Midtown             282.72\n",
       "West Village        267.68\n",
       "Greenwich Village   263.41\n",
       "Chelsea             249.74\n",
       "Theater District    248.01\n",
       "Name: price, dtype: float64"
      ]
     },
     "execution_count": 18,
     "metadata": {},
     "output_type": "execute_result"
    }
   ],
   "source": [
    "df_manhattan = df[df['neighbourhood_group'] == \"Manhattan\"]\n",
    "high_10_price_manhattan = df_manhattan.groupby('neighbourhood')['price'].mean().sort_values(ascending=False).head(10)\n",
    "high_10_price_manhattan"
   ]
  },
  {
   "cell_type": "code",
   "execution_count": 19,
   "id": "ebc68dea",
   "metadata": {},
   "outputs": [
    {
     "data": {
      "image/png": "[encoded data removed]",
      "text/plain": [
       "<Figure size 1008x576 with 1 Axes>"
      ]
     },
     "metadata": {
      "needs_background": "light"
     },
     "output_type": "display_data"
    }
   ],
   "source": [
    "fig, ax = plt.subplots(figsize=(14, 8))\n",
    "\n",
    "sns.barplot(data=df_manhattan, y=high_10_price_manhattan, x=high_10_price_manhattan.index, palette=\"viridis\")\n",
    "\n",
    "plt.title(\"10 highest price neighbourhood in Manhattan\", size=15)\n",
    "plt.ylabel(\"Price\", size=15)\n",
    "plt.xlabel(\"Neighbourhood of Manhattan\", size=15)\n",
    "\n",
    "plt.show()"
   ]
  },
  {
   "cell_type": "code",
   "execution_count": null,
   "id": "c5902d11",
   "metadata": {},
   "outputs": [],
   "source": []
  }
 ],
 "metadata": {
  "kernelspec": {
   "display_name": "Python 3",
   "language": "python",
   "name": "python3"
  },
  "language_info": {
   "codemirror_mode": {
    "name": "ipython",
    "version": 3
   },
   "file_extension": ".py",
   "mimetype": "text/x-python",
   "name": "python",
   "nbconvert_exporter": "python",
   "pygments_lexer": "ipython3",
   "version": "3.8.8"
  }
 },
 "nbformat": 4,
 "nbformat_minor": 5
}
